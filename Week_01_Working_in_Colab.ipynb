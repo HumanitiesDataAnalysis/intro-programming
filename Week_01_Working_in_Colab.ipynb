{
  "nbformat": 4,
  "nbformat_minor": 0,
  "metadata": {
    "colab": {
      "name": "Week 1: Working in Colab",
      "provenance": [],
      "collapsed_sections": [],
      "include_colab_link": true
    },
    "kernelspec": {
      "display_name": "Python 3",
      "language": "python",
      "name": "python3"
    },
    "language_info": {
      "codemirror_mode": {
        "name": "ipython",
        "version": 3
      },
      "file_extension": ".py",
      "mimetype": "text/x-python",
      "name": "python",
      "nbconvert_exporter": "python",
      "pygments_lexer": "ipython3",
      "version": "3.8.3"
    }
  },
  "cells": [
    {
      "cell_type": "markdown",
      "metadata": {
        "id": "view-in-github",
        "colab_type": "text"
      },
      "source": [
        "<a href=\"https://colab.research.google.com/github/HumanitiesDataAnalysis/intro-programming/blob/main/Week_01_Working_in_Colab.ipynb\" target=\"_parent\"><img src=\"https://colab.research.google.com/assets/colab-badge.svg\" alt=\"Open In Colab\"/></a>"
      ]
    },
    {
      "cell_type": "markdown",
      "metadata": {
        "id": "h-b5-RtnvQgv"
      },
      "source": [
        "# Getting Started"
      ]
    },
    {
      "cell_type": "markdown",
      "metadata": {
        "id": "XF1amjq6Yp1M"
      },
      "source": [
        "Welcome to Google Colab. This is a species of iPython notebook that runs on a free Google server. We'll be using these for assignments and exercises."
      ]
    },
    {
      "cell_type": "code",
      "metadata": {
        "id": "SY009OE3uwB1",
        "colab": {
          "base_uri": "https://localhost:8080/",
          "height": 35
        },
        "outputId": "13c11872-b179-487a-b504-e3db177f6fd7"
      },
      "source": [
        "\"hello\""
      ],
      "execution_count": 1,
      "outputs": [
        {
          "output_type": "execute_result",
          "data": {
            "application/vnd.google.colaboratory.intrinsic+json": {
              "type": "string"
            },
            "text/plain": [
              "'hello'"
            ]
          },
          "metadata": {},
          "execution_count": 1
        }
      ]
    },
    {
      "cell_type": "code",
      "metadata": {
        "id": "Uiu7kqf2ux-v",
        "colab": {
          "base_uri": "https://localhost:8080/"
        },
        "outputId": "126e7985-908b-418f-9469-73d203b895c6"
      },
      "source": [
        "print(\"hello\")"
      ],
      "execution_count": 2,
      "outputs": [
        {
          "output_type": "stream",
          "name": "stdout",
          "text": [
            "hello\n"
          ]
        }
      ]
    },
    {
      "cell_type": "markdown",
      "metadata": {
        "id": "OWk7TmRTZVNk"
      },
      "source": [
        "## Variables and Functions\n",
        "\n",
        "The most fundamental things in python are **variables** and **functions**. Both of these are things that you refer to by name, and both them are things that you can create--although we'll wait just a little before writing our own functions.\n",
        "\n",
        "Create a variable using an equals sign and something on the left.\n"
      ]
    },
    {
      "cell_type": "code",
      "metadata": {
        "id": "cSIfQTJOZytG"
      },
      "source": [
        "my_name = \"Ben\""
      ],
      "execution_count": 3,
      "outputs": []
    },
    {
      "cell_type": "code",
      "metadata": {
        "id": "4t7pVIkhWXpG"
      },
      "source": [
        ""
      ],
      "execution_count": 3,
      "outputs": []
    },
    {
      "cell_type": "markdown",
      "metadata": {
        "id": "k1CLmrZYfXLK"
      },
      "source": [
        "Variables can be combined together. For both letters and numbers, we can do this with the \"+\" sign."
      ]
    },
    {
      "cell_type": "code",
      "metadata": {
        "id": "MB01VrEffWeM",
        "colab": {
          "base_uri": "https://localhost:8080/"
        },
        "outputId": "1369b9af-7a10-4dbc-db27-e865f5cc7a67"
      },
      "source": [
        "1 + 1"
      ],
      "execution_count": 4,
      "outputs": [
        {
          "output_type": "execute_result",
          "data": {
            "text/plain": [
              "2"
            ]
          },
          "metadata": {},
          "execution_count": 4
        }
      ]
    },
    {
      "cell_type": "code",
      "metadata": {
        "id": "MxfBGYoKkkSa",
        "colab": {
          "base_uri": "https://localhost:8080/",
          "height": 35
        },
        "outputId": "b54b9322-4a0a-4d9b-b85b-f4606009793e"
      },
      "source": [
        "\"Hello \" + my_name"
      ],
      "execution_count": 5,
      "outputs": [
        {
          "output_type": "execute_result",
          "data": {
            "application/vnd.google.colaboratory.intrinsic+json": {
              "type": "string"
            },
            "text/plain": [
              "'Hello Ben'"
            ]
          },
          "metadata": {},
          "execution_count": 5
        }
      ]
    },
    {
      "cell_type": "markdown",
      "metadata": {
        "id": "GFXPZ68AZ_Mt"
      },
      "source": [
        "A **variable** is essentially a *noun*; something that exists. A function is a verb; an action that takes place on a variable. \"+\" is *sort of* of a function (it adds two things together.) But the typical syntax for **functions** is that they occur between two parentheses. You can chain things together inside of these parentheses like above."
      ]
    },
    {
      "cell_type": "code",
      "metadata": {
        "id": "kRBUI67JZ63t",
        "colab": {
          "base_uri": "https://localhost:8080/"
        },
        "outputId": "a17424b4-6348-4ef4-d76f-1f6129d5c8fb"
      },
      "source": [
        "print(\"Hello \" + my_name)"
      ],
      "execution_count": 6,
      "outputs": [
        {
          "output_type": "stream",
          "name": "stdout",
          "text": [
            "Hello Ben\n"
          ]
        }
      ]
    },
    {
      "cell_type": "markdown",
      "metadata": {
        "id": "vmdOYaioaNFN"
      },
      "source": [
        "OK--your first task is--change the *notebook* so it says your \"Hello Mrs. Miniver\" (or whatever your name is), while still using the variable \"my_name\" above. "
      ]
    },
    {
      "cell_type": "markdown",
      "metadata": {
        "id": "hy1OUXVHvZdq"
      },
      "source": [
        "# Letters"
      ]
    },
    {
      "cell_type": "markdown",
      "metadata": {
        "id": "6RkEa62xv_rM"
      },
      "source": [
        "We'll start out with one of the simplest elements: the letter A.\n",
        "\n",
        "We've already seen that there are both words (called \"strings\") and numbers in python. Every letter is represented as a number under the hood; if you want to see what letter is produced by a given number, you can use a function called 'chr'. \n"
      ]
    },
    {
      "cell_type": "code",
      "metadata": {
        "id": "HirXRtp_u0DO",
        "colab": {
          "base_uri": "https://localhost:8080/",
          "height": 35
        },
        "outputId": "66025339-d7ce-4c59-fd7f-4338ed35f106"
      },
      "source": [
        "\"A\""
      ],
      "execution_count": 12,
      "outputs": [
        {
          "output_type": "execute_result",
          "data": {
            "application/vnd.google.colaboratory.intrinsic+json": {
              "type": "string"
            },
            "text/plain": [
              "'A'"
            ]
          },
          "metadata": {},
          "execution_count": 12
        }
      ]
    },
    {
      "cell_type": "code",
      "metadata": {
        "id": "4ShKBDfru07L",
        "colab": {
          "base_uri": "https://localhost:8080/",
          "height": 35
        },
        "outputId": "1b38523f-e6a4-43af-84b8-645050851e9e"
      },
      "source": [
        "chr(65)"
      ],
      "execution_count": 13,
      "outputs": [
        {
          "output_type": "execute_result",
          "data": {
            "application/vnd.google.colaboratory.intrinsic+json": {
              "type": "string"
            },
            "text/plain": [
              "'A'"
            ]
          },
          "metadata": {},
          "execution_count": 13
        }
      ]
    },
    {
      "cell_type": "markdown",
      "metadata": {
        "id": "p8At4wiJYxbS"
      },
      "source": [
        "# Problem 1.\n",
        "\n",
        "Using trial and error, find the character code for the letter \"0\". (Yes, I said \"letter zero.\") Really what I mean is the *glyph* zero. I've given you a bunch of cells below.\n",
        "\n",
        "## Hotkeys\n",
        "\n",
        "While doing this, start learning some hotkeys in jupyter:\n",
        "\n",
        "Hit control (or command) M then press B to add a new cell; and hit shift-enter\n",
        "or control-enter to run a cell. (control advances the focus to the next cell; shift keeps it where it is.)"
      ]
    },
    {
      "cell_type": "code",
      "metadata": {
        "id": "bi-VUMi2vAX4"
      },
      "source": [
        ""
      ],
      "execution_count": 8,
      "outputs": []
    },
    {
      "cell_type": "code",
      "metadata": {
        "id": "bfgCH4nWalgO"
      },
      "source": [
        ""
      ],
      "execution_count": 8,
      "outputs": []
    },
    {
      "cell_type": "markdown",
      "metadata": {
        "id": "zzRse_9Fn2iP"
      },
      "source": [
        ""
      ]
    },
    {
      "cell_type": "markdown",
      "metadata": {
        "id": "Q2sZqq58n2iV"
      },
      "source": [
        ""
      ]
    },
    {
      "cell_type": "code",
      "metadata": {
        "id": "agUqAcsrn2iX"
      },
      "source": [
        ""
      ],
      "execution_count": 8,
      "outputs": []
    },
    {
      "cell_type": "code",
      "metadata": {
        "id": "htaBtiJNal5O"
      },
      "source": [
        ""
      ],
      "execution_count": 8,
      "outputs": []
    },
    {
      "cell_type": "code",
      "metadata": {
        "id": "j-mfjzRnamN_"
      },
      "source": [
        ""
      ],
      "execution_count": 8,
      "outputs": []
    },
    {
      "cell_type": "code",
      "metadata": {
        "id": "vdfuDaKYamig"
      },
      "source": [
        ""
      ],
      "execution_count": 8,
      "outputs": []
    },
    {
      "cell_type": "code",
      "metadata": {
        "id": "_HhTGYkFamuu"
      },
      "source": [
        ""
      ],
      "execution_count": 8,
      "outputs": []
    },
    {
      "cell_type": "code",
      "metadata": {
        "id": "nFDE1Eeqam64"
      },
      "source": [
        ""
      ],
      "execution_count": 8,
      "outputs": []
    },
    {
      "cell_type": "code",
      "metadata": {
        "id": "43_UoB57anHE"
      },
      "source": [
        ""
      ],
      "execution_count": 8,
      "outputs": []
    },
    {
      "cell_type": "markdown",
      "metadata": {
        "id": "8qFj3UzPZJc8"
      },
      "source": [
        "There's a faster way to do this, for the record; the function `ord` tells you the character code directly."
      ]
    },
    {
      "cell_type": "code",
      "metadata": {
        "id": "7aw4lWXwv62x",
        "colab": {
          "base_uri": "https://localhost:8080/"
        },
        "outputId": "325485d2-ebb2-41fa-ee4d-fe8871e6f32b"
      },
      "source": [
        "ord(\"A\")"
      ],
      "execution_count": 9,
      "outputs": [
        {
          "output_type": "execute_result",
          "data": {
            "text/plain": [
              "65"
            ]
          },
          "metadata": {},
          "execution_count": 9
        }
      ]
    },
    {
      "cell_type": "code",
      "metadata": {
        "id": "96QnB7CemPFx",
        "colab": {
          "base_uri": "https://localhost:8080/",
          "height": 35
        },
        "outputId": "efa546b4-7ae4-481d-d505-8f163dd2bd89"
      },
      "source": [
        "chr(918)"
      ],
      "execution_count": 10,
      "outputs": [
        {
          "output_type": "execute_result",
          "data": {
            "application/vnd.google.colaboratory.intrinsic+json": {
              "type": "string"
            },
            "text/plain": [
              "'Ζ'"
            ]
          },
          "metadata": {},
          "execution_count": 10
        }
      ]
    },
    {
      "cell_type": "markdown",
      "metadata": {
        "id": "oHIQeua5mWiL"
      },
      "source": [
        "Find some other numbers that produce some interesting characters. I put in my birthday, and got an interesting one--this is **not** a Z. What else can you find? How big do the numbers go?"
      ]
    },
    {
      "cell_type": "code",
      "metadata": {
        "id": "qvh-lX4PbbNf"
      },
      "source": [
        ""
      ],
      "execution_count": 10,
      "outputs": []
    },
    {
      "cell_type": "code",
      "metadata": {
        "id": "bnwoNW5umhZ2"
      },
      "source": [
        ""
      ],
      "execution_count": 10,
      "outputs": []
    },
    {
      "cell_type": "markdown",
      "metadata": {
        "id": "Mnm-PbjkmxzY"
      },
      "source": [
        "Some numbers get *very* high, and sometimes two different code points make one letter. See if you can explain what's going on without using language, **only variable names**.\n",
        "The point below seems to be two different characters. Fiddle around a little bit with both the left and right-hand numbers to figure out what's going on."
      ]
    },
    {
      "cell_type": "code",
      "metadata": {
        "id": "gWTHiS1SbeJW",
        "colab": {
          "base_uri": "https://localhost:8080/",
          "height": 35
        },
        "outputId": "fdee472f-deb0-4fac-f470-77d68e12104f"
      },
      "source": [
        "chr(129499) + chr(127996)"
      ],
      "execution_count": 11,
      "outputs": [
        {
          "output_type": "execute_result",
          "data": {
            "application/vnd.google.colaboratory.intrinsic+json": {
              "type": "string"
            },
            "text/plain": [
              "'🧛🏼'"
            ]
          },
          "metadata": {},
          "execution_count": 11
        }
      ]
    },
    {
      "cell_type": "markdown",
      "metadata": {
        "id": "OsLUxudpq3sQ"
      },
      "source": [
        "Things can get weird, and that's OK. "
      ]
    },
    {
      "cell_type": "code",
      "metadata": {
        "id": "YpQWWcixcHUR"
      },
      "source": [
        ""
      ],
      "execution_count": 11,
      "outputs": []
    },
    {
      "cell_type": "code",
      "metadata": {
        "id": "zdJnyF3mcxmn"
      },
      "source": [
        ""
      ],
      "execution_count": 11,
      "outputs": []
    },
    {
      "cell_type": "code",
      "metadata": {
        "id": "aeEd6gicnL6A"
      },
      "source": [
        ""
      ],
      "execution_count": 11,
      "outputs": []
    },
    {
      "cell_type": "code",
      "metadata": {
        "id": "LYDVFTRGrA3g"
      },
      "source": [
        ""
      ],
      "execution_count": 11,
      "outputs": []
    },
    {
      "cell_type": "code",
      "metadata": {
        "id": "tq9gfDTvn2lv"
      },
      "source": [
        ""
      ],
      "execution_count": 11,
      "outputs": []
    }
  ]
}